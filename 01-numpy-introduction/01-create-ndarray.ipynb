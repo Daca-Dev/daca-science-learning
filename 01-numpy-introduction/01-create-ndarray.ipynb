{
 "cells": [
  {
   "cell_type": "markdown",
   "source": [
<<<<<<< HEAD:02-introduction-to-numpy/01-create-ndarray.ipynb
    "# Introducción a NumPy\n",
    "\n",
    "`NumPy` (short for Numerical Python) provides an efficient interface to store and operate on dense data buffers\n",
    "\n",
    "> In some ways, `NumPy` arrays are like Python’s `built-in` list type, but `NumPy` arrays provide much\n",
    "more efficient storage and data operations as the arrays grow larger in size\n",
    "\n",
    "## Manejo de datos en NumPy y Python\n",
    "\n",
    "> NumPy  son paquetes y librerías desarrolladas en C para manipular arrays\n",
    "\n",
    "Una de las principales razones por la que Numpy es mas eficiente que los tipos base de Python para procesar datos como las listas, es la forma en que se procesan los datos, por ejemplo en Python al ser de tipado dinámico, las variables lo que almacenan son posiciones de memoria, que muchas veces no están en orden, simplemente esta en donde se le permitan crear , por el contrario C si permite reservar el espacio de memoria para una variable y nunca cambiara mientras esta viva, mientras que en Python si cambiará cada vez que se reasigne por un valor inmutable\n",
    "\n",
    "![alt](./images/img6.png)\n",
    "\n",
    "Lo mismo sucede con las listas de Python, que lo que guarda es un arreglo de apuntadores, cuyo valores varían según la posición de memoria\n",
    "\n",
    "![alt](./images/img7.png)\n",
    "\n",
    "Esa es la principal diferencia de NumPy (lenguaje C) con Python, es mucho mas eficiente, sin embrago manejar se es mucho mas complejo que Python, por lo que todo ese proceso es abstracto a nosotros\n",
    "\n",
    "## Tipos de datos en Numpy\n",
    "\n",
    "Aunque muchas veces numpy creara el arreglo con el tipo de dato mas apropiado, es posible asignarle este dato por defecto como ya vimos en los ejemplos anteriores, sin embargo es bueno conocer los tipos de datos existentes\n",
    "\n",
    "![alt](./images/img8.png)\n",
    "\n",
    "Para importar **NumPy** la comunidad a definido hacerlo como `import numpy as np`, es mas por buenas prácticas y eficiencia al momento de escribir código.]\n",
    "\n"
   ]
=======
    "# Creación de Numpy Arrays\r\n",
    "\r\n",
    "Para importar **NumPy** la comunidad a definido hacerlo como `import numpy as np`, es mas por buenas prácticas y eficiencia al momento de escribir código.]"
   ],
   "metadata": {}
>>>>>>> b7c1a2699c0a5668bd6ce37494e9197edaf723f7:01-numpy-introduction/01-create-ndarray.ipynb
  },
  {
   "cell_type": "code",
   "execution_count": 1,
   "source": [
    "import numpy as np"
   ],
   "outputs": [],
   "metadata": {}
  },
  {
   "cell_type": "markdown",
   "source": [
    "## Crear un ndArrya\n",
    "\n",
    "Existen muchas maneras de crear **ndArray** con **NumPy** a continuación te mostrare algunos de ellos.\n",
    "\n",
    "> debes de tener en cuenta que al crear un array este debe de ser del mismo tipo de dato"
   ],
   "metadata": {}
  },
  {
   "cell_type": "code",
   "execution_count": 2,
<<<<<<< HEAD:02-introduction-to-numpy/01-create-ndarray.ipynb
   "metadata": {},
=======
   "source": [
    "np.array([1, 2, 3, 4, 5, 3]) # array de Int"
   ],
>>>>>>> b7c1a2699c0a5668bd6ce37494e9197edaf723f7:01-numpy-introduction/01-create-ndarray.ipynb
   "outputs": [
    {
     "output_type": "execute_result",
     "data": {
      "text/plain": [
       "array([1, 2, 3, 4, 5, 3])"
      ]
     },
<<<<<<< HEAD:02-introduction-to-numpy/01-create-ndarray.ipynb
     "execution_count": 2,
=======
>>>>>>> b7c1a2699c0a5668bd6ce37494e9197edaf723f7:01-numpy-introduction/01-create-ndarray.ipynb
     "metadata": {},
     "execution_count": 2
    }
   ],
   "metadata": {}
  },
  {
   "cell_type": "code",
<<<<<<< HEAD:02-introduction-to-numpy/01-create-ndarray.ipynb
   "execution_count": 3,
   "metadata": {},
=======
   "execution_count": 4,
   "source": [
    "np.array([3.14, 1, 2, 4, 5]) # array de Floats"
   ],
>>>>>>> b7c1a2699c0a5668bd6ce37494e9197edaf723f7:01-numpy-introduction/01-create-ndarray.ipynb
   "outputs": [
    {
     "output_type": "execute_result",
     "data": {
      "text/plain": [
       "array([3.14, 1.  , 2.  , 4.  , 5.  ])"
      ]
     },
<<<<<<< HEAD:02-introduction-to-numpy/01-create-ndarray.ipynb
     "execution_count": 3,
=======
>>>>>>> b7c1a2699c0a5668bd6ce37494e9197edaf723f7:01-numpy-introduction/01-create-ndarray.ipynb
     "metadata": {},
     "execution_count": 4
    }
   ],
   "metadata": {}
  },
  {
   "cell_type": "markdown",
   "source": [
    "Si intentaramos crear un array con un string dentro?"
   ],
   "metadata": {}
  },
  {
   "cell_type": "code",
<<<<<<< HEAD:02-introduction-to-numpy/01-create-ndarray.ipynb
   "execution_count": 4,
   "metadata": {},
=======
   "execution_count": 6,
   "source": [
    "np.array([1, 3, 4, '5', 4])"
   ],
>>>>>>> b7c1a2699c0a5668bd6ce37494e9197edaf723f7:01-numpy-introduction/01-create-ndarray.ipynb
   "outputs": [
    {
     "output_type": "execute_result",
     "data": {
      "text/plain": [
       "array(['1', '3', '4', '5', '4'], dtype='<U11')"
      ]
     },
<<<<<<< HEAD:02-introduction-to-numpy/01-create-ndarray.ipynb
     "execution_count": 4,
=======
>>>>>>> b7c1a2699c0a5668bd6ce37494e9197edaf723f7:01-numpy-introduction/01-create-ndarray.ipynb
     "metadata": {},
     "execution_count": 6
    }
   ],
   "metadata": {}
  },
  {
   "cell_type": "markdown",
   "source": [
    "Mira que el resultado es un array de solo strings, no contiene multiples tipos de datos como lo haría una lista normal de Python.\n",
    "\n",
    "### definir el tipo de dato\n",
    "\n",
    "Sin embargo numpay nos permite definir el tipo de dato que va a contener el array recien creado, esto lo ahcemos con el atributo **dtype** al momento de crearlo"
   ],
   "metadata": {}
  },
  {
   "cell_type": "code",
<<<<<<< HEAD:02-introduction-to-numpy/01-create-ndarray.ipynb
   "execution_count": 5,
   "metadata": {},
=======
   "execution_count": 14,
   "source": [
    "np.array([1, 2, 3, 4, 5, 3], dtype='int32') # array de Int"
   ],
>>>>>>> b7c1a2699c0a5668bd6ce37494e9197edaf723f7:01-numpy-introduction/01-create-ndarray.ipynb
   "outputs": [
    {
     "output_type": "execute_result",
     "data": {
      "text/plain": [
       "array([1, 2, 3, 4, 5, 3])"
      ]
     },
<<<<<<< HEAD:02-introduction-to-numpy/01-create-ndarray.ipynb
     "execution_count": 5,
=======
>>>>>>> b7c1a2699c0a5668bd6ce37494e9197edaf723f7:01-numpy-introduction/01-create-ndarray.ipynb
     "metadata": {},
     "execution_count": 14
    }
   ],
   "metadata": {}
  },
  {
   "cell_type": "code",
<<<<<<< HEAD:02-introduction-to-numpy/01-create-ndarray.ipynb
   "execution_count": 6,
   "metadata": {},
=======
   "execution_count": 16,
   "source": [
    "np.array([1, 2, 3, 4, 5, 3], dtype='float32') # array de Int"
   ],
>>>>>>> b7c1a2699c0a5668bd6ce37494e9197edaf723f7:01-numpy-introduction/01-create-ndarray.ipynb
   "outputs": [
    {
     "output_type": "execute_result",
     "data": {
      "text/plain": [
       "array([1., 2., 3., 4., 5., 3.], dtype=float32)"
      ]
     },
<<<<<<< HEAD:02-introduction-to-numpy/01-create-ndarray.ipynb
     "execution_count": 6,
=======
>>>>>>> b7c1a2699c0a5668bd6ce37494e9197edaf723f7:01-numpy-introduction/01-create-ndarray.ipynb
     "metadata": {},
     "execution_count": 16
    }
   ],
   "metadata": {}
  },
  {
   "cell_type": "markdown",
   "source": [
    "Fíjate que el tipo de dato definido esta entre comillas y hace referencia a un tipo de dato de **C** no de **Python**\n",
    "\n",
    "### Creando arrays desde funciones\n",
    "\n",
    "**Numpy** por defecto nos permite crear arrays de ciertos valores comop por ejemplo de ceros, o unos o incluso numeros random, vamos a ver algunos de ellos"
   ],
   "metadata": {}
  },
  {
   "cell_type": "code",
<<<<<<< HEAD:02-introduction-to-numpy/01-create-ndarray.ipynb
   "execution_count": 7,
   "metadata": {},
=======
   "execution_count": 18,
   "source": [
    "# Create a length-10 integer array filled with zeros\r\n",
    "np.zeros(10, dtype=int)"
   ],
>>>>>>> b7c1a2699c0a5668bd6ce37494e9197edaf723f7:01-numpy-introduction/01-create-ndarray.ipynb
   "outputs": [
    {
     "output_type": "execute_result",
     "data": {
      "text/plain": [
       "array([0, 0, 0, 0, 0, 0, 0, 0, 0, 0])"
      ]
     },
<<<<<<< HEAD:02-introduction-to-numpy/01-create-ndarray.ipynb
     "execution_count": 7,
=======
>>>>>>> b7c1a2699c0a5668bd6ce37494e9197edaf723f7:01-numpy-introduction/01-create-ndarray.ipynb
     "metadata": {},
     "execution_count": 18
    }
   ],
   "metadata": {}
  },
  {
   "cell_type": "code",
<<<<<<< HEAD:02-introduction-to-numpy/01-create-ndarray.ipynb
   "execution_count": 8,
   "metadata": {},
=======
   "execution_count": 19,
   "source": [
    "# Create a 3x5 floating-point array filled with 1s\r\n",
    "np.ones((3, 5), dtype=float)"
   ],
>>>>>>> b7c1a2699c0a5668bd6ce37494e9197edaf723f7:01-numpy-introduction/01-create-ndarray.ipynb
   "outputs": [
    {
     "output_type": "execute_result",
     "data": {
      "text/plain": [
       "array([[1., 1., 1., 1., 1.],\n",
       "       [1., 1., 1., 1., 1.],\n",
       "       [1., 1., 1., 1., 1.]])"
      ]
     },
<<<<<<< HEAD:02-introduction-to-numpy/01-create-ndarray.ipynb
     "execution_count": 8,
=======
>>>>>>> b7c1a2699c0a5668bd6ce37494e9197edaf723f7:01-numpy-introduction/01-create-ndarray.ipynb
     "metadata": {},
     "execution_count": 19
    }
   ],
   "metadata": {}
  },
  {
   "cell_type": "code",
<<<<<<< HEAD:02-introduction-to-numpy/01-create-ndarray.ipynb
   "execution_count": 9,
   "metadata": {},
=======
   "execution_count": 21,
   "source": [
    "# Create a 3x5 array filled with 3.14\r\n",
    "np.full((3, 5), 3.14)"
   ],
>>>>>>> b7c1a2699c0a5668bd6ce37494e9197edaf723f7:01-numpy-introduction/01-create-ndarray.ipynb
   "outputs": [
    {
     "output_type": "execute_result",
     "data": {
      "text/plain": [
       "array([[3.14, 3.14, 3.14, 3.14, 3.14],\n",
       "       [3.14, 3.14, 3.14, 3.14, 3.14],\n",
       "       [3.14, 3.14, 3.14, 3.14, 3.14]])"
      ]
     },
<<<<<<< HEAD:02-introduction-to-numpy/01-create-ndarray.ipynb
     "execution_count": 9,
=======
>>>>>>> b7c1a2699c0a5668bd6ce37494e9197edaf723f7:01-numpy-introduction/01-create-ndarray.ipynb
     "metadata": {},
     "execution_count": 21
    }
   ],
   "metadata": {}
  },
  {
   "cell_type": "code",
<<<<<<< HEAD:02-introduction-to-numpy/01-create-ndarray.ipynb
   "execution_count": 10,
   "metadata": {},
=======
   "execution_count": 22,
   "source": [
    "# Create an array filled with a linear sequence\r\n",
    "# Starting at 0, ending at 20, stepping by 2\r\n",
    "# (this is similar to the built-in range() function)\r\n",
    "np.arange(0, 20, 2)"
   ],
>>>>>>> b7c1a2699c0a5668bd6ce37494e9197edaf723f7:01-numpy-introduction/01-create-ndarray.ipynb
   "outputs": [
    {
     "output_type": "execute_result",
     "data": {
      "text/plain": [
       "array([ 0,  2,  4,  6,  8, 10, 12, 14, 16, 18])"
      ]
     },
<<<<<<< HEAD:02-introduction-to-numpy/01-create-ndarray.ipynb
     "execution_count": 10,
=======
>>>>>>> b7c1a2699c0a5668bd6ce37494e9197edaf723f7:01-numpy-introduction/01-create-ndarray.ipynb
     "metadata": {},
     "execution_count": 22
    }
   ],
   "metadata": {}
  },
  {
   "cell_type": "code",
<<<<<<< HEAD:02-introduction-to-numpy/01-create-ndarray.ipynb
   "execution_count": 11,
   "metadata": {},
=======
   "execution_count": 23,
   "source": [
    "# Create an array of five values evenly spaced between 0 and 1\r\n",
    "np.linspace(0, 1, 5)"
   ],
>>>>>>> b7c1a2699c0a5668bd6ce37494e9197edaf723f7:01-numpy-introduction/01-create-ndarray.ipynb
   "outputs": [
    {
     "output_type": "execute_result",
     "data": {
      "text/plain": [
       "array([0.  , 0.25, 0.5 , 0.75, 1.  ])"
      ]
     },
<<<<<<< HEAD:02-introduction-to-numpy/01-create-ndarray.ipynb
     "execution_count": 11,
=======
>>>>>>> b7c1a2699c0a5668bd6ce37494e9197edaf723f7:01-numpy-introduction/01-create-ndarray.ipynb
     "metadata": {},
     "execution_count": 23
    }
   ],
   "metadata": {}
  },
  {
   "cell_type": "code",
<<<<<<< HEAD:02-introduction-to-numpy/01-create-ndarray.ipynb
   "execution_count": 12,
   "metadata": {},
=======
   "execution_count": 24,
   "source": [
    "# Create a 3x3 array of uniformly distributed\r\n",
    "# random values between 0 and 1\r\n",
    "np.random.random((3, 3))"
   ],
>>>>>>> b7c1a2699c0a5668bd6ce37494e9197edaf723f7:01-numpy-introduction/01-create-ndarray.ipynb
   "outputs": [
    {
     "output_type": "execute_result",
     "data": {
      "text/plain": [
       "array([[0.86291308, 0.71619663, 0.87467665],\n",
       "       [0.69011952, 0.89173088, 0.06788066],\n",
       "       [0.08275653, 0.88325293, 0.86624946]])"
      ]
     },
<<<<<<< HEAD:02-introduction-to-numpy/01-create-ndarray.ipynb
     "execution_count": 12,
=======
>>>>>>> b7c1a2699c0a5668bd6ce37494e9197edaf723f7:01-numpy-introduction/01-create-ndarray.ipynb
     "metadata": {},
     "execution_count": 24
    }
   ],
   "metadata": {}
  },
  {
   "cell_type": "code",
<<<<<<< HEAD:02-introduction-to-numpy/01-create-ndarray.ipynb
   "execution_count": 13,
   "metadata": {},
=======
   "execution_count": 25,
   "source": [
    "# Create a 3x3 array of normally distributed random values\r\n",
    "# with mean 0 and standard deviation 1\r\n",
    "np.random.normal(0, 1, (3, 3))"
   ],
>>>>>>> b7c1a2699c0a5668bd6ce37494e9197edaf723f7:01-numpy-introduction/01-create-ndarray.ipynb
   "outputs": [
    {
     "output_type": "execute_result",
     "data": {
      "text/plain": [
       "array([[-2.65910936, -1.4526688 ,  1.04049815],\n",
       "       [ 1.72312802,  0.31626186, -2.41112692],\n",
       "       [-0.52933928,  0.74743961, -0.63594529]])"
      ]
     },
<<<<<<< HEAD:02-introduction-to-numpy/01-create-ndarray.ipynb
     "execution_count": 13,
=======
>>>>>>> b7c1a2699c0a5668bd6ce37494e9197edaf723f7:01-numpy-introduction/01-create-ndarray.ipynb
     "metadata": {},
     "execution_count": 25
    }
   ],
   "metadata": {}
  },
  {
   "cell_type": "code",
<<<<<<< HEAD:02-introduction-to-numpy/01-create-ndarray.ipynb
   "execution_count": 14,
   "metadata": {},
=======
   "execution_count": 26,
   "source": [
    "# Create a 3x3 array of random integers in the interval [0, 10)\r\n",
    "np.random.randint(0, 10, (3, 3))"
   ],
>>>>>>> b7c1a2699c0a5668bd6ce37494e9197edaf723f7:01-numpy-introduction/01-create-ndarray.ipynb
   "outputs": [
    {
     "output_type": "execute_result",
     "data": {
      "text/plain": [
       "array([[4, 6, 7],\n",
       "       [9, 2, 5],\n",
       "       [4, 4, 2]])"
      ]
     },
<<<<<<< HEAD:02-introduction-to-numpy/01-create-ndarray.ipynb
     "execution_count": 14,
=======
>>>>>>> b7c1a2699c0a5668bd6ce37494e9197edaf723f7:01-numpy-introduction/01-create-ndarray.ipynb
     "metadata": {},
     "execution_count": 26
    }
   ],
   "metadata": {}
  },
  {
   "cell_type": "code",
<<<<<<< HEAD:02-introduction-to-numpy/01-create-ndarray.ipynb
   "execution_count": 15,
   "metadata": {},
=======
   "execution_count": 27,
   "source": [
    "# Create a 3x3 identity matrix\n",
    "np.eye(3)"
   ],
>>>>>>> b7c1a2699c0a5668bd6ce37494e9197edaf723f7:01-numpy-introduction/01-create-ndarray.ipynb
   "outputs": [
    {
     "output_type": "execute_result",
     "data": {
      "text/plain": [
       "array([[1., 0., 0.],\n",
       "       [0., 1., 0.],\n",
       "       [0., 0., 1.]])"
      ]
     },
<<<<<<< HEAD:02-introduction-to-numpy/01-create-ndarray.ipynb
     "execution_count": 15,
=======
>>>>>>> b7c1a2699c0a5668bd6ce37494e9197edaf723f7:01-numpy-introduction/01-create-ndarray.ipynb
     "metadata": {},
     "execution_count": 27
    }
   ],
   "metadata": {}
  },
  {
   "cell_type": "code",
<<<<<<< HEAD:02-introduction-to-numpy/01-create-ndarray.ipynb
   "execution_count": 16,
   "metadata": {},
=======
   "execution_count": 28,
   "source": [
    "# Create an uninitialized array of three integers\n",
    "# The values will be whatever happens to already exist at that\n",
    "# memory location\n",
    "np.empty(3)"
   ],
>>>>>>> b7c1a2699c0a5668bd6ce37494e9197edaf723f7:01-numpy-introduction/01-create-ndarray.ipynb
   "outputs": [
    {
     "output_type": "execute_result",
     "data": {
      "text/plain": [
       "array([1., 1., 1.])"
      ]
     },
<<<<<<< HEAD:02-introduction-to-numpy/01-create-ndarray.ipynb
     "execution_count": 16,
=======
>>>>>>> b7c1a2699c0a5668bd6ce37494e9197edaf723f7:01-numpy-introduction/01-create-ndarray.ipynb
     "metadata": {},
     "execution_count": 28
    }
   ],
   "metadata": {}
  },
  {
   "cell_type": "code",
   "execution_count": null,
   "source": [],
   "outputs": [],
   "metadata": {}
  }
 ],
 "metadata": {
  "interpreter": {
   "hash": "e433b52ea0deae7b48481a630ee6f08e132b3801298487142ed13917eee0315c"
  },
  "kernelspec": {
<<<<<<< HEAD:02-introduction-to-numpy/01-create-ndarray.ipynb
   "display_name": "Python 3.9.7 64-bit ('python-data-science-handbook': conda)",
   "name": "python3"
=======
   "name": "python3",
   "display_name": "Python 3.9.7 64-bit ('python-data-science-handbook': conda)"
>>>>>>> b7c1a2699c0a5668bd6ce37494e9197edaf723f7:01-numpy-introduction/01-create-ndarray.ipynb
  },
  "language_info": {
   "codemirror_mode": {
    "name": "ipython",
    "version": 3
   },
   "file_extension": ".py",
   "mimetype": "text/x-python",
   "name": "python",
   "nbconvert_exporter": "python",
   "pygments_lexer": "ipython3",
   "version": "3.9.7"
  }
 },
 "nbformat": 4,
 "nbformat_minor": 2
}