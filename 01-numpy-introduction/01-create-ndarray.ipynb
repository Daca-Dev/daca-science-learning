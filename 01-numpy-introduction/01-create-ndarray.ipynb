{
 "cells": [
  {
   "cell_type": "markdown",
   "source": [
    "# Creación de Numpy Arrays\r\n",
    "\r\n",
    "Para importar **NumPy** la comunidad a definido hacerlo como `import numpy as np`, es mas por buenas prácticas y eficiencia al momento de escribir código.]"
   ],
   "metadata": {}
  },
  {
   "cell_type": "code",
   "execution_count": 1,
   "source": [
    "import numpy as np"
   ],
   "outputs": [],
   "metadata": {}
  },
  {
   "cell_type": "markdown",
   "source": [
    "## Crear un ndArrya\n",
    "\n",
    "Existen muchas maneras de crear **ndArray** con **NumPy** a continuación te mostrare algunos de ellos.\n",
    "\n",
    "> debes de tener en cuenta que al crear un array este debe de ser del mismo tipo de dato"
   ],
   "metadata": {}
  },
  {
   "cell_type": "code",
   "execution_count": 2,
   "source": [
    "np.array([1, 2, 3, 4, 5, 3]) # array de Int"
   ],
   "outputs": [
    {
     "output_type": "execute_result",
     "data": {
      "text/plain": [
       "array([1, 2, 3, 4, 5, 3])"
      ]
     },
     "metadata": {},
     "execution_count": 2
    }
   ],
   "metadata": {}
  },
  {
   "cell_type": "code",
   "execution_count": 4,
   "source": [
    "np.array([3.14, 1, 2, 4, 5]) # array de Floats"
   ],
   "outputs": [
    {
     "output_type": "execute_result",
     "data": {
      "text/plain": [
       "array([3.14, 1.  , 2.  , 4.  , 5.  ])"
      ]
     },
     "metadata": {},
     "execution_count": 4
    }
   ],
   "metadata": {}
  },
  {
   "cell_type": "markdown",
   "source": [
    "Si intentaramos crear un array con un string dentro?"
   ],
   "metadata": {}
  },
  {
   "cell_type": "code",
   "execution_count": 6,
   "source": [
    "np.array([1, 3, 4, '5', 4])"
   ],
   "outputs": [
    {
     "output_type": "execute_result",
     "data": {
      "text/plain": [
       "array(['1', '3', '4', '5', '4'], dtype='<U11')"
      ]
     },
     "metadata": {},
     "execution_count": 6
    }
   ],
   "metadata": {}
  },
  {
   "cell_type": "markdown",
   "source": [
    "Mira que el resultado es un array de solo strings, no contiene multiples tipos de datos como lo haría una lista normal de Python.\n",
    "\n",
    "### definir el tipo de dato\n",
    "\n",
    "Sin embargo numpay nos permite definir el tipo de dato que va a contener el array recien creado, esto lo ahcemos con el atributo **dtype** al momento de crearlo"
   ],
   "metadata": {}
  },
  {
   "cell_type": "code",
   "execution_count": 14,
   "source": [
    "np.array([1, 2, 3, 4, 5, 3], dtype='int32') # array de Int"
   ],
   "outputs": [
    {
     "output_type": "execute_result",
     "data": {
      "text/plain": [
       "array([1, 2, 3, 4, 5, 3])"
      ]
     },
     "metadata": {},
     "execution_count": 14
    }
   ],
   "metadata": {}
  },
  {
   "cell_type": "code",
   "execution_count": 16,
   "source": [
    "np.array([1, 2, 3, 4, 5, 3], dtype='float32') # array de Int"
   ],
   "outputs": [
    {
     "output_type": "execute_result",
     "data": {
      "text/plain": [
       "array([1., 2., 3., 4., 5., 3.], dtype=float32)"
      ]
     },
     "metadata": {},
     "execution_count": 16
    }
   ],
   "metadata": {}
  },
  {
   "cell_type": "markdown",
   "source": [
    "Fíjate que el tipo de dato definido esta entre comillas y hace referencia a un tipo de dato de **C** no de **Python**\n",
    "\n",
    "### Creando arrays desde funciones\n",
    "\n",
    "**Numpy** por defecto nos permite crear arrays de ciertos valores comop por ejemplo de ceros, o unos o incluso numeros random, vamos a ver algunos de ellos"
   ],
   "metadata": {}
  },
  {
   "cell_type": "code",
   "execution_count": 18,
   "source": [
    "# Create a length-10 integer array filled with zeros\r\n",
    "np.zeros(10, dtype=int)"
   ],
   "outputs": [
    {
     "output_type": "execute_result",
     "data": {
      "text/plain": [
       "array([0, 0, 0, 0, 0, 0, 0, 0, 0, 0])"
      ]
     },
     "metadata": {},
     "execution_count": 18
    }
   ],
   "metadata": {}
  },
  {
   "cell_type": "code",
   "execution_count": 19,
   "source": [
    "# Create a 3x5 floating-point array filled with 1s\r\n",
    "np.ones((3, 5), dtype=float)"
   ],
   "outputs": [
    {
     "output_type": "execute_result",
     "data": {
      "text/plain": [
       "array([[1., 1., 1., 1., 1.],\n",
       "       [1., 1., 1., 1., 1.],\n",
       "       [1., 1., 1., 1., 1.]])"
      ]
     },
     "metadata": {},
     "execution_count": 19
    }
   ],
   "metadata": {}
  },
  {
   "cell_type": "code",
   "execution_count": 21,
   "source": [
    "# Create a 3x5 array filled with 3.14\r\n",
    "np.full((3, 5), 3.14)"
   ],
   "outputs": [
    {
     "output_type": "execute_result",
     "data": {
      "text/plain": [
       "array([[3.14, 3.14, 3.14, 3.14, 3.14],\n",
       "       [3.14, 3.14, 3.14, 3.14, 3.14],\n",
       "       [3.14, 3.14, 3.14, 3.14, 3.14]])"
      ]
     },
     "metadata": {},
     "execution_count": 21
    }
   ],
   "metadata": {}
  },
  {
   "cell_type": "code",
   "execution_count": 22,
   "source": [
    "# Create an array filled with a linear sequence\r\n",
    "# Starting at 0, ending at 20, stepping by 2\r\n",
    "# (this is similar to the built-in range() function)\r\n",
    "np.arange(0, 20, 2)"
   ],
   "outputs": [
    {
     "output_type": "execute_result",
     "data": {
      "text/plain": [
       "array([ 0,  2,  4,  6,  8, 10, 12, 14, 16, 18])"
      ]
     },
     "metadata": {},
     "execution_count": 22
    }
   ],
   "metadata": {}
  },
  {
   "cell_type": "code",
   "execution_count": 23,
   "source": [
    "# Create an array of five values evenly spaced between 0 and 1\r\n",
    "np.linspace(0, 1, 5)"
   ],
   "outputs": [
    {
     "output_type": "execute_result",
     "data": {
      "text/plain": [
       "array([0.  , 0.25, 0.5 , 0.75, 1.  ])"
      ]
     },
     "metadata": {},
     "execution_count": 23
    }
   ],
   "metadata": {}
  },
  {
   "cell_type": "code",
   "execution_count": 24,
   "source": [
    "# Create a 3x3 array of uniformly distributed\r\n",
    "# random values between 0 and 1\r\n",
    "np.random.random((3, 3))"
   ],
   "outputs": [
    {
     "output_type": "execute_result",
     "data": {
      "text/plain": [
       "array([[0.96088079, 0.37822325, 0.85586973],\n",
       "       [0.76157359, 0.22341071, 0.47404005],\n",
       "       [0.84743883, 0.10154132, 0.90660617]])"
      ]
     },
     "metadata": {},
     "execution_count": 24
    }
   ],
   "metadata": {}
  },
  {
   "cell_type": "code",
   "execution_count": 25,
   "source": [
    "# Create a 3x3 array of normally distributed random values\r\n",
    "# with mean 0 and standard deviation 1\r\n",
    "np.random.normal(0, 1, (3, 3))"
   ],
   "outputs": [
    {
     "output_type": "execute_result",
     "data": {
      "text/plain": [
       "array([[ 0.19386955,  0.75489863, -0.4124827 ],\n",
       "       [ 0.49057589, -0.15374593,  0.13118604],\n",
       "       [ 0.71453134, -1.39834409,  0.61793699]])"
      ]
     },
     "metadata": {},
     "execution_count": 25
    }
   ],
   "metadata": {}
  },
  {
   "cell_type": "code",
   "execution_count": 26,
   "source": [
    "# Create a 3x3 array of random integers in the interval [0, 10)\r\n",
    "np.random.randint(0, 10, (3, 3))"
   ],
   "outputs": [
    {
     "output_type": "execute_result",
     "data": {
      "text/plain": [
       "array([[6, 5, 4],\n",
       "       [4, 3, 7],\n",
       "       [8, 1, 2]])"
      ]
     },
     "metadata": {},
     "execution_count": 26
    }
   ],
   "metadata": {}
  },
  {
   "cell_type": "code",
   "execution_count": 27,
   "source": [
    "# Create a 3x3 identity matrix\n",
    "np.eye(3)"
   ],
   "outputs": [
    {
     "output_type": "execute_result",
     "data": {
      "text/plain": [
       "array([[1., 0., 0.],\n",
       "       [0., 1., 0.],\n",
       "       [0., 0., 1.]])"
      ]
     },
     "metadata": {},
     "execution_count": 27
    }
   ],
   "metadata": {}
  },
  {
   "cell_type": "code",
   "execution_count": 28,
   "source": [
    "# Create an uninitialized array of three integers\n",
    "# The values will be whatever happens to already exist at that\n",
    "# memory location\n",
    "np.empty(3)"
   ],
   "outputs": [
    {
     "output_type": "execute_result",
     "data": {
      "text/plain": [
       "array([1., 1., 1.])"
      ]
     },
     "metadata": {},
     "execution_count": 28
    }
   ],
   "metadata": {}
  },
  {
   "cell_type": "code",
   "execution_count": null,
   "source": [],
   "outputs": [],
   "metadata": {}
  }
 ],
 "metadata": {
  "interpreter": {
   "hash": "e433b52ea0deae7b48481a630ee6f08e132b3801298487142ed13917eee0315c"
  },
  "kernelspec": {
   "name": "python3",
   "display_name": "Python 3.9.7 64-bit ('python-data-science-handbook': conda)"
  },
  "language_info": {
   "codemirror_mode": {
    "name": "ipython",
    "version": 3
   },
   "file_extension": ".py",
   "mimetype": "text/x-python",
   "name": "python",
   "nbconvert_exporter": "python",
   "pygments_lexer": "ipython3",
   "version": "3.9.7"
  }
 },
 "nbformat": 4,
 "nbformat_minor": 2
}