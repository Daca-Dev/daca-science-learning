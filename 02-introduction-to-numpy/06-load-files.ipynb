{
 "cells": [
  {
   "cell_type": "markdown",
   "metadata": {},
   "source": [
    "# Operar archivos con Numpy\n",
    "\n",
    "No es lo común no numpy abrir archivos, pero es bueno saberlo que es posible hacerlo, numpy posee una función llamada ``loadtxt()``  y nos permite defnir un archivo, sus delimitadores para definir los datos, como por ejemplo una coma (,) en un archivo CSV\n",
    "\n",
    "veamos su forma de uso"
   ]
  },
  {
   "cell_type": "code",
   "execution_count": 1,
   "metadata": {},
   "outputs": [],
   "source": [
    "import numpy as np"
   ]
  },
  {
   "cell_type": "code",
   "execution_count": 2,
   "metadata": {},
   "outputs": [
    {
     "data": {
      "text/plain": [
       "array([[1., 0., 0., ..., 0., 0., 0.],\n",
       "       [0., 0., 0., ..., 0., 0., 0.],\n",
       "       [1., 0., 0., ..., 0., 0., 0.],\n",
       "       ...,\n",
       "       [2., 0., 0., ..., 0., 0., 0.],\n",
       "       [0., 0., 0., ..., 0., 0., 0.],\n",
       "       [5., 0., 0., ..., 0., 0., 0.]])"
      ]
     },
     "execution_count": 2,
     "metadata": {},
     "output_type": "execute_result"
    }
   ],
   "source": [
    "mnist = np.loadtxt('./data/mnist.csv', delimiter=',')\n",
    "mnist"
   ]
  },
  {
   "cell_type": "markdown",
   "metadata": {},
   "source": [
    "supongamos que tenemos un archivo totalmente distinto al que vimos de CSV, con esta función es posible personalizar mas la forma en que capturamos los datos del archivo"
   ]
  },
  {
   "cell_type": "code",
   "execution_count": 3,
   "metadata": {},
   "outputs": [
    {
     "data": {
      "text/plain": [
       "array([[1., 0.],\n",
       "       [0., 0.],\n",
       "       [1., 0.],\n",
       "       [4., 0.],\n",
       "       [0., 0.],\n",
       "       [0., 0.],\n",
       "       [7., 0.],\n",
       "       [3., 0.],\n",
       "       [5., 0.],\n",
       "       [3., 0.],\n",
       "       [8., 0.],\n",
       "       [9., 0.],\n",
       "       [1., 0.],\n",
       "       [3., 0.],\n",
       "       [3., 0.],\n",
       "       [1., 0.],\n",
       "       [2., 0.],\n",
       "       [0., 0.],\n",
       "       [7., 0.],\n",
       "       [5., 0.],\n",
       "       [8., 0.],\n",
       "       [6., 0.],\n",
       "       [2., 0.],\n",
       "       [0., 0.],\n",
       "       [2., 0.],\n",
       "       [3., 0.],\n",
       "       [6., 0.],\n",
       "       [9., 0.],\n",
       "       [9., 0.],\n",
       "       [7., 0.],\n",
       "       [8., 0.],\n",
       "       [9., 0.],\n",
       "       [4., 0.],\n",
       "       [9., 0.],\n",
       "       [2., 0.],\n",
       "       [1., 0.],\n",
       "       [3., 0.],\n",
       "       [1., 0.],\n",
       "       [1., 0.],\n",
       "       [4., 0.],\n",
       "       [9., 0.],\n",
       "       [1., 0.],\n",
       "       [4., 0.],\n",
       "       [4., 0.],\n",
       "       [2., 0.],\n",
       "       [6., 0.],\n",
       "       [3., 0.],\n",
       "       [7., 0.],\n",
       "       [7., 0.],\n",
       "       [4., 0.],\n",
       "       [7., 0.],\n",
       "       [5., 0.],\n",
       "       [1., 0.],\n",
       "       [9., 0.],\n",
       "       [0., 0.],\n",
       "       [2., 0.],\n",
       "       [2., 0.],\n",
       "       [3., 0.],\n",
       "       [9., 0.],\n",
       "       [1., 0.],\n",
       "       [1., 0.],\n",
       "       [1., 0.],\n",
       "       [5., 0.],\n",
       "       [0., 0.],\n",
       "       [6., 0.],\n",
       "       [3., 0.],\n",
       "       [4., 0.],\n",
       "       [8., 0.],\n",
       "       [1., 0.],\n",
       "       [0., 0.],\n",
       "       [3., 0.],\n",
       "       [9., 0.],\n",
       "       [6., 0.],\n",
       "       [2., 0.],\n",
       "       [6., 0.],\n",
       "       [4., 0.],\n",
       "       [7., 0.],\n",
       "       [1., 0.],\n",
       "       [4., 0.],\n",
       "       [1., 0.],\n",
       "       [5., 0.],\n",
       "       [4., 0.],\n",
       "       [8., 0.],\n",
       "       [9., 0.],\n",
       "       [2., 0.],\n",
       "       [9., 0.],\n",
       "       [9., 0.],\n",
       "       [8., 0.],\n",
       "       [9., 0.],\n",
       "       [6., 0.],\n",
       "       [3., 0.],\n",
       "       [6., 0.],\n",
       "       [4., 0.],\n",
       "       [6., 0.],\n",
       "       [2., 0.],\n",
       "       [9., 0.],\n",
       "       [1., 0.],\n",
       "       [2., 0.],\n",
       "       [0., 0.],\n",
       "       [5., 0.]])"
      ]
     },
     "execution_count": 3,
     "metadata": {},
     "output_type": "execute_result"
    }
   ],
   "source": [
    "digits = np.loadtxt('./data/digits_headers.txt', delimiter='\\t', skiprows=1, usecols=[0,3])\n",
    "digits"
   ]
  },
  {
   "cell_type": "markdown",
   "metadata": {},
   "source": [
    "# Importar archivos de distintos tipos de datos\n",
    "\n",
    "habran casos (muchos) en donde los datos que vengan del archivo no sean del mismo tipo, por ejemplo que tengamos datos del tipo float y otros de tipo string, para ello numpy tienen una función que nos permite importar estos archivos y deducir su estructura y tipo de dato, esta función nos devolverá una un arreglo estructurado de numpy"
   ]
  },
  {
   "cell_type": "code",
   "execution_count": 6,
   "metadata": {},
   "outputs": [
    {
     "name": "stderr",
     "output_type": "stream",
     "text": [
      "C:\\Users\\DAVID~1.CAS\\AppData\\Local\\Temp/ipykernel_20776/1332348698.py:1: VisibleDeprecationWarning: Reading unicode strings without specifying the encoding argument is deprecated. Set the encoding, use None for the system default.\n",
      "  data_structured = np.genfromtxt('./data/Seattle2014.csv', delimiter=',', names=True, dtype=None)\n"
     ]
    },
    {
     "data": {
      "text/plain": [
       "dtype([('STATION', 'S17'), ('STATION_NAME', 'S42'), ('DATE', '<i4'), ('PRCP', '<i4'), ('SNWD', '<i4'), ('SNOW', '<i4'), ('TMAX', '<i4'), ('TMIN', '<i4'), ('AWND', '<i4'), ('WDF2', '<i4'), ('WDF5', '<i4'), ('WSF2', '<i4'), ('WSF5', '<i4'), ('WT01', '<i4'), ('WT05', '<i4'), ('WT02', '<i4'), ('WT03', '<i4')])"
      ]
     },
     "execution_count": 6,
     "metadata": {},
     "output_type": "execute_result"
    }
   ],
   "source": [
    "data_structured = np.genfromtxt('./data/Seattle2014.csv', delimiter=',', names=True, dtype=None)\n",
    "data_structured.dtype"
   ]
  },
  {
   "cell_type": "markdown",
   "metadata": {},
   "source": [
    "La anterior función nos permite abrir archivos de distinto tipo y formato, pero si por defecto quisieramos abrir un archivo CSV, podemos usar la funcion ``recformcsv()`` el cual unicamente para funcionar necesita el path del arhcivo, tiene otros parametros para configurar pero como requerimiento minimo necesita el path del archivo"
   ]
  },
  {
   "cell_type": "code",
   "execution_count": 7,
   "metadata": {},
   "outputs": [
    {
     "name": "stderr",
     "output_type": "stream",
     "text": [
      "C:\\Users\\David.Casas\\anaconda3\\envs\\python-data-science-handbook\\lib\\site-packages\\numpy\\lib\\npyio.py:2405: VisibleDeprecationWarning: Reading unicode strings without specifying the encoding argument is deprecated. Set the encoding, use None for the system default.\n",
      "  output = genfromtxt(fname, **kwargs)\n"
     ]
    },
    {
     "data": {
      "text/plain": [
       "dtype((numpy.record, [('station', 'S17'), ('station_name', 'S42'), ('date', '<i4'), ('prcp', '<i4'), ('snwd', '<i4'), ('snow', '<i4'), ('tmax', '<i4'), ('tmin', '<i4'), ('awnd', '<i4'), ('wdf2', '<i4'), ('wdf5', '<i4'), ('wsf2', '<i4'), ('wsf5', '<i4'), ('wt01', '<i4'), ('wt05', '<i4'), ('wt02', '<i4'), ('wt03', '<i4')]))"
      ]
     },
     "execution_count": 7,
     "metadata": {},
     "output_type": "execute_result"
    }
   ],
   "source": [
    "data_structured = np.recfromcsv('./data/Seattle2014.csv')\n",
    "data_structured.dtype"
   ]
  }
 ],
 "metadata": {
  "interpreter": {
   "hash": "1cb03a539a46829adc3c7c5159b6f84394f8d2e435c2706a56c3d43ca2a88f7c"
  },
  "kernelspec": {
   "display_name": "Python 3.9.7 64-bit ('python-data-science-handbook': conda)",
   "name": "python3"
  },
  "language_info": {
   "codemirror_mode": {
    "name": "ipython",
    "version": 3
   },
   "file_extension": ".py",
   "mimetype": "text/x-python",
   "name": "python",
   "nbconvert_exporter": "python",
   "pygments_lexer": "ipython3",
   "version": "3.9.7"
  },
  "orig_nbformat": 4
 },
 "nbformat": 4,
 "nbformat_minor": 2
}
