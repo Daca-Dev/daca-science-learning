{
 "cells": [
  {
   "cell_type": "markdown",
   "source": [
    "# Computación con Numpy: Universal Functions\r\n",
    "\r\n",
    "Las funciones universales de Numpy son funciones built-in que normalmente permiten realizar las tareas mas comunes y usadas en el procesamiento de datos, como lo son suma, max, min, desviación estándar, etc.\r\n",
    "\r\n",
    "Aunque los arreglos y otros objetos de Numpy tienen sus propios métodos para realziar este tipo de operación, el uso de las funciones universales (uFuctions) es recomendado ya que están mucho mas optimizados por lo que la velocidad de procesamiento será mucho mayor para los arreglos que son pasados como parámetros\r\n",
    "\r\n",
    "> Son incluso mas optimisados que el for loop y los métodos de cada array\r\n",
    "\r\n",
    "Comparemos las una **uFunction** con una función implementada con un ciclo for"
   ],
   "metadata": {}
  },
  {
   "cell_type": "code",
   "execution_count": 2,
   "source": [
    "import numpy as np\r\n",
    "np.random.seed(0)\r\n",
    "\r\n",
    "def compute_reciprocals(values):\r\n",
    "    output = np.empty(len(values))\r\n",
    "    for i in range(len(values)):\r\n",
    "        output[i] = 1.0 / values[i]\r\n",
    "    return output\r\n",
    "\r\n",
    "values = np.random.randint(1, 10, size=5)\r\n",
    "\r\n",
    "%timeit compute_reciprocals(values)\r\n",
    "%timeit 1 / values"
   ],
   "outputs": [
    {
     "output_type": "stream",
     "name": "stdout",
     "text": [
      "23.5 µs ± 2.62 µs per loop (mean ± std. dev. of 7 runs, 100000 loops each)\n",
      "2.42 µs ± 72.4 ns per loop (mean ± std. dev. of 7 runs, 100000 loops each)\n"
     ]
    }
   ],
   "metadata": {}
  },
  {
   "cell_type": "markdown",
   "source": [
    "Puedes observar la diferencia en tiempos de ejecución de un método a otro? ahora imaginate que no procesas un arreglo de 5 valores sino de miles\r\n",
    "\r\n",
    "Miremos cuales son las **uFunctions** báscias"
   ],
   "metadata": {}
  },
  {
   "cell_type": "code",
   "execution_count": 5,
   "source": [
    "x = np.arange(4)\r\n",
    "print(\"x =\", x)\r\n",
    "print(\"x + 5 =\", x + 5)\r\n",
    "print(\"x - 5 =\", x - 5)\r\n",
    "print(\"x * 2 =\", x * 2)\r\n",
    "print(\"x / 2 =\", x / 2)\r\n",
    "print(\"x // 2 =\", x // 2) # floor division\r\n",
    "print(\"-x = \", -x)\r\n",
    "print(\"x ** 2 = \", x ** 2)\r\n",
    "print(\"x % 2 = \", x % 2)"
   ],
   "outputs": [
    {
     "output_type": "stream",
     "name": "stdout",
     "text": [
      "x = [0 1 2 3]\n",
      "x + 5 = [5 6 7 8]\n",
      "x - 5 = [-5 -4 -3 -2]\n",
      "x * 2 = [0 2 4 6]\n",
      "x / 2 = [0.  0.5 1.  1.5]\n",
      "x // 2 = [0 0 1 1]\n",
      "-x =  [ 0 -1 -2 -3]\n",
      "x ** 2 =  [0 1 4 9]\n",
      "x % 2 =  [0 1 0 1]\n"
     ]
    }
   ],
   "metadata": {}
  },
  {
   "cell_type": "markdown",
   "source": [
    "Todas estas funciones estan implementadas en Numpy como se muestran en la siguiente imagen, solo que Python permite utilizar la sintaxis mas amigable al usar solamente los signos operadores\r\n",
    "\r\n",
    "> El modo de funcionar es muy parecido al funcionamiento de los arreglos y vectores en algebra líneal\r\n",
    "\r\n",
    "![funciones de numpy](./images/img1.png)\r\n",
    "\r\n",
    "\r\n",
    "También disponemos de funciones un poco mas avanzadas relacionadas con matematica y estadistica"
   ],
   "metadata": {}
  },
  {
   "cell_type": "code",
   "execution_count": 6,
   "source": [
    "# VALOR ABSOLUTO\r\n",
    "x = np.array([-2, -1, 0, 1, 2])\r\n",
    "abs(x)"
   ],
   "outputs": [
    {
     "output_type": "execute_result",
     "data": {
      "text/plain": [
       "array([2, 1, 0, 1, 2])"
      ]
     },
     "metadata": {},
     "execution_count": 6
    }
   ],
   "metadata": {}
  },
  {
   "cell_type": "markdown",
   "source": [
    "Funciones Trigonometricas, aqui cabe resaltar que las funciones aunque son **uFunctions** no tiene su operador asociado como + o *, sino que se llaman directamente a través del módulo de numpy que por buenas prácticas es np"
   ],
   "metadata": {}
  },
  {
   "cell_type": "code",
   "execution_count": 9,
   "source": [
    "theta = np.linspace(0, np.pi, 3)\r\n",
    "print(\"theta = \", theta)\r\n",
    "print(\"sin(theta) = \", np.sin(theta))\r\n",
    "print(\"cos(theta) = \", np.cos(theta))\r\n",
    "print(\"tan(theta) = \", np.tan(theta))\r\n",
    "\r\n",
    "x = [-1, 0, 1]\r\n",
    "print(\"x = \", x)\r\n",
    "print(\"arcsin(x) = \", np.arcsin(x))\r\n",
    "print(\"arccos(x) = \", np.arccos(x))\r\n",
    "print(\"arctan(x) = \", np.arctan(x))"
   ],
   "outputs": [
    {
     "output_type": "stream",
     "name": "stdout",
     "text": [
      "theta =  [0.         1.57079633 3.14159265]\n",
      "sin(theta) =  [0.0000000e+00 1.0000000e+00 1.2246468e-16]\n",
      "cos(theta) =  [ 1.000000e+00  6.123234e-17 -1.000000e+00]\n",
      "tan(theta) =  [ 0.00000000e+00  1.63312394e+16 -1.22464680e-16]\n",
      "x =  [-1, 0, 1]\n",
      "arcsin(x) =  [-1.57079633  0.          1.57079633]\n",
      "arccos(x) =  [3.14159265 1.57079633 0.        ]\n",
      "arctan(x) =  [-0.78539816  0.          0.78539816]\n"
     ]
    }
   ],
   "metadata": {}
  },
  {
   "cell_type": "markdown",
   "source": [
    "También tenemos funciones exponenciales y logaritmicas"
   ],
   "metadata": {}
  },
  {
   "cell_type": "code",
   "execution_count": 14,
   "source": [
    "x = [1, 2, 3]\r\n",
    "print(\"x =\", x)\r\n",
    "print(\"e^x =\", np.exp(x))\r\n",
    "print(\"2^x =\", np.exp2(x))\r\n",
    "print(\"3^x =\", np.power(3, x))\r\n",
    "\r\n",
    "x = [1, 2, 4, 10]\r\n",
    "print(\"x =\", x)\r\n",
    "print(\"ln(x) =\", np.log(x))\r\n",
    "print(\"log2(x) =\", np.log2(x))\r\n",
    "print(\"log10(x) =\", np.log10(x))\r\n",
    "\r\n",
    "x = [0, 0.001, 0.01, 0.1]\r\n",
    "print(\"exp(x) - 1 =\", np.expm1(x))\r\n",
    "print(\"log(1 + x) =\", np.log1p(x))"
   ],
   "outputs": [
    {
     "output_type": "stream",
     "name": "stdout",
     "text": [
      "x = [1, 2, 3]\n",
      "e^x = [ 2.71828183  7.3890561  20.08553692]\n",
      "2^x = [2. 4. 8.]\n",
      "3^x = [ 3  9 27]\n",
      "x = [1, 2, 4, 10]\n",
      "ln(x) = [0.         0.69314718 1.38629436 2.30258509]\n",
      "log2(x) = [0.         1.         2.         3.32192809]\n",
      "log10(x) = [0.         0.30103    0.60205999 1.        ]\n",
      "exp(x) - 1 = [0.         0.0010005  0.01005017 0.10517092]\n",
      "log(1 + x) = [0.         0.0009995  0.00995033 0.09531018]\n"
     ]
    }
   ],
   "metadata": {}
  },
  {
   "cell_type": "markdown",
   "source": [
    "Aunque Numpy trae una amplia variedad de funciones también podemos importar funciones de otros modulos como lo es **SciPy**, un paquete ampliamente usado para analizar y procesar información"
   ],
   "metadata": {}
  },
  {
   "cell_type": "code",
   "execution_count": 16,
   "source": [
    "from scipy import special\r\n",
    "\r\n",
    "# Gamma functions (generalized factorials) and related functions\r\n",
    "x = [1, 5, 10]\r\n",
    "print(\"gamma(x) =\", special.gamma(x))\r\n",
    "print(\"ln|gamma(x)| =\", special.gammaln(x))\r\n",
    "print(\"beta(x, 2) =\", special.beta(x, 2))"
   ],
   "outputs": [
    {
     "output_type": "stream",
     "name": "stdout",
     "text": [
      "gamma(x) = [1.0000e+00 2.4000e+01 3.6288e+05]\n",
      "ln|gamma(x)| = [ 0.          3.17805383 12.80182748]\n",
      "beta(x, 2) = [0.5        0.03333333 0.00909091]\n"
     ]
    }
   ],
   "metadata": {}
  },
  {
   "cell_type": "code",
   "execution_count": 17,
   "source": [
    "# Error function (integral of Gaussian)\r\n",
    "# its complement, and its inverse\r\n",
    "x = np.array([0, 0.3, 0.7, 1.0])\r\n",
    "print(\"erf(x) =\", special.erf(x))\r\n",
    "print(\"erfc(x) =\", special.erfc(x))\r\n",
    "print(\"erfinv(x) =\", special.erfinv(x))"
   ],
   "outputs": [
    {
     "output_type": "stream",
     "name": "stdout",
     "text": [
      "erf(x) = [0.         0.32862676 0.67780119 0.84270079]\n",
      "erfc(x) = [1.         0.67137324 0.32219881 0.15729921]\n",
      "erfinv(x) = [0.         0.27246271 0.73286908        inf]\n"
     ]
    }
   ],
   "metadata": {}
  },
  {
   "cell_type": "markdown",
   "source": [
    "# Caracteristicas avanzadas de UFunctions\r\n",
    "\r\n",
    "A medida que vas trabajando con funciones universales, vas a ir descubriendo caracteristicas muy poderosas que te permitirar optimizar aun mas tu código, por ejemplo\r\n",
    "\r\n",
    "1. Specifying output: esta caracteristica te permite definir en donde se almacenara el resultado del procesamiento o calculos realizados, estoy nos permite tener la variable final apartada en meoria y no se ahce uso de una varibale temporal para el procesamiento"
   ],
   "metadata": {}
  },
  {
   "cell_type": "code",
   "execution_count": 18,
   "source": [
    "x = np.arange(5)\r\n",
    "y = np.empty(5)\r\n",
    "np.multiply(x, 10, out=y)\r\n",
    "print(y)"
   ],
   "outputs": [
    {
     "output_type": "stream",
     "name": "stdout",
     "text": [
      "[ 0. 10. 20. 30. 40.]\n"
     ]
    }
   ],
   "metadata": {}
  },
  {
   "cell_type": "markdown",
   "source": [
    "También podemos llenar ciertos espacios de un arreglo ya creado"
   ],
   "metadata": {}
  },
  {
   "cell_type": "code",
   "execution_count": 19,
   "source": [
    "y = np.zeros(10)\r\n",
    "np.power(2, x, out=y[::2])\r\n",
    "print(y)"
   ],
   "outputs": [
    {
     "output_type": "stream",
     "name": "stdout",
     "text": [
      "[ 1.  0.  2.  0.  4.  0.  8.  0. 16.  0.]\n"
     ]
    }
   ],
   "metadata": {}
  },
  {
   "cell_type": "markdown",
   "source": [
    "## Obtener valores o información del arreglo"
   ],
   "metadata": {}
  },
  {
   "cell_type": "code",
   "execution_count": 20,
   "source": [
    "# calling reduce on the add ufunc returns the sum of all elements in the array\r\n",
    "x = np.arange(1, 6)\r\n",
    "np.add.reduce(x)"
   ],
   "outputs": [
    {
     "output_type": "execute_result",
     "data": {
      "text/plain": [
       "15"
      ]
     },
     "metadata": {},
     "execution_count": 20
    }
   ],
   "metadata": {}
  },
  {
   "cell_type": "code",
   "execution_count": 23,
   "source": [
    "# calling reduce on the multiply ufunc results in the product of all array elements\r\n",
    "np.multiply.reduce(x)"
   ],
   "outputs": [
    {
     "output_type": "execute_result",
     "data": {
      "text/plain": [
       "120"
      ]
     },
     "metadata": {},
     "execution_count": 23
    }
   ],
   "metadata": {}
  },
  {
   "cell_type": "code",
   "execution_count": 26,
   "source": [
    "# If we’d like to store all the intermediate results of the computation, we can instead use accumulate\r\n",
    "np.add.accumulate(x)"
   ],
   "outputs": [
    {
     "output_type": "execute_result",
     "data": {
      "text/plain": [
       "array([ 1,  3,  6, 10, 15], dtype=int32)"
      ]
     },
     "metadata": {},
     "execution_count": 26
    }
   ],
   "metadata": {}
  },
  {
   "cell_type": "code",
   "execution_count": 27,
   "source": [
    "np.multiply.accumulate(x)"
   ],
   "outputs": [
    {
     "output_type": "execute_result",
     "data": {
      "text/plain": [
       "array([  1,   2,   6,  24, 120], dtype=int32)"
      ]
     },
     "metadata": {},
     "execution_count": 27
    }
   ],
   "metadata": {}
  },
  {
   "cell_type": "markdown",
   "source": [
    "More information on universal functions (including the full list of available functions) can be found on the NumPy and SciPy documentation websites.\r\n",
    "\r\n",
    "Recall that you can also access information directly from within IPython by importing the packages and using IPython’s tab-completion and help (?)"
   ],
   "metadata": {}
  }
 ],
 "metadata": {
  "orig_nbformat": 4,
  "language_info": {
   "name": "python",
   "version": "3.9.7",
   "mimetype": "text/x-python",
   "codemirror_mode": {
    "name": "ipython",
    "version": 3
   },
   "pygments_lexer": "ipython3",
   "nbconvert_exporter": "python",
   "file_extension": ".py"
  },
  "kernelspec": {
   "name": "python3",
   "display_name": "Python 3.9.7 64-bit ('python-data-science-handbook': conda)"
  },
  "interpreter": {
   "hash": "1cb03a539a46829adc3c7c5159b6f84394f8d2e435c2706a56c3d43ca2a88f7c"
  }
 },
 "nbformat": 4,
 "nbformat_minor": 2
}