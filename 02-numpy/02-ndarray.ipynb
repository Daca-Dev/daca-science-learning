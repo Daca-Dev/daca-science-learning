{
 "cells": [
  {
   "attachments": {},
   "cell_type": "markdown",
   "metadata": {},
   "source": [
    "# ndArray: Multidimensional Array Object\n",
    "\n",
    "Uno de los objetos clave dentro de **Numpy** son los arreglos multidimensionales o **ndArray** que son arreglos basados en C que cuentan con las siguientes características\n",
    "\n",
    "- Ocupan un espacio de memoria continuo, es decir que no estas distribuidos sobre la memoria, por lo que son más fáciles de acceder\n",
    "- Son de un mismo tipo de dato, lo cual mejora el performance de la memoria ya que se sabe el tamaño de cada elemento\n",
    "\n",
    "> El importar `numpy` como `np` es una convención recomendada para evitar que `numpy` sobrescriba definiciones del core de Python como `max` y `min`"
   ]
  },
  {
   "cell_type": "code",
   "execution_count": 2,
   "metadata": {},
   "outputs": [],
   "source": [
    "import numpy as np"
   ]
  },
  {
   "cell_type": "code",
   "execution_count": 3,
   "metadata": {},
   "outputs": [
    {
     "data": {
      "text/plain": [
       "array([[ 1,  3,  4,  5],\n",
       "       [-2,  3, -1,  9]])"
      ]
     },
     "execution_count": 3,
     "metadata": {},
     "output_type": "execute_result"
    }
   ],
   "source": [
    "data = np.array([[1,3,4,5], [-2, 3,-1, 9]])\n",
    "\n",
    "data"
   ]
  },
  {
   "attachments": {},
   "cell_type": "markdown",
   "metadata": {},
   "source": [
    "hemos creado el arreglo `data` que es una matriz de **2x4** elementos de los arreglos siempre deben de sert simetricos, es decir que no podemos crear un arreglo en donde un elemento es otro arreglo de 3 elementos y otro de 4\n",
    "\n",
    "> si solo escribimos el nombre de la variable como ultimo valor de la ejecución del bloque de código, el valor que contiene se imprimira en cosola\n",
    "\n",
    "### Creacion de ndArrays\n",
    "\n",
    "existen varias funciones dentro de **Numpy** que nos permiten crear arreglos de este tipo, pero antes debemos de definir que existen dos tipos de elementos en las matematicas que pueden ser representados con arreglos de numpy\n",
    "\n",
    "- vectores -> los vectores son arreglos de una fila y n elementos\n",
    "- matrices -> las matrices son arreglos de `n x m` elementos\n",
    "- matrices multidimensionales -> son matrices de matrices pueden tener diferentes niveles de profundidad\n",
    "\n",
    "> en todos los casos es importante resaltar y mantener la simetria enrte los elemento de estos objetos\n",
    "\n",
    "a continuación los métodos de creación de arreglos\n",
    "\n",
    "| función | descripción |\n",
    "|---------|-------------|\n",
    "|array    |Convert input data (list, tuple, array, or other sequence type) to an ndarray either by inferring a data type or explicitly specifying a data type; copies the input data by default|\n",
    "|asarray  | Convert input to ndarray, but do not copy if the input is already an ndarray|\n",
    "|arange|Like the `built-in` range but returns an ndarray instead of a list|\n",
    "|ones, ones_like|Produce an array of all 1s with the given shape and data type; `ones_like` takes another array and produces a `ones` array of the same shape and data type|\n",
    "|zeros, zeros_like|Like `ones` and `ones_like` but producing arrays of 0s instead|\n",
    "|empty, empty_like|Create new arrays by allocating new memory, but do not populate with any values like `ones` and `zeros`|\n",
    "|full, full_like| Produce an array of the given shape and data type with all values set to the indicated “fill value”; `full_like` takes another array and produces a filled array of the same shape and data type|\n",
    "|eye, identity| Create a square N × N identity matrix (1s on the diagonal and 0s elsewhere)|"
   ]
  },
  {
   "cell_type": "code",
   "execution_count": 4,
   "metadata": {},
   "outputs": [
    {
     "data": {
      "text/plain": [
       "array([6. , 7.5, 8.9, 1. ])"
      ]
     },
     "execution_count": 4,
     "metadata": {},
     "output_type": "execute_result"
    }
   ],
   "source": [
    "data1 = [6,7.5,8.9,1]\n",
    "\n",
    "# podemos crear arreglos a partir de otros objetos iterables de Python como lo es una lista\n",
    "arr_1 = np.array(data1)\n",
    "arr_1"
   ]
  },
  {
   "cell_type": "code",
   "execution_count": 5,
   "metadata": {},
   "outputs": [
    {
     "data": {
      "text/plain": [
       "array([[1, 2, 3, 4],\n",
       "       [5, 6, 7, 8]])"
      ]
     },
     "execution_count": 5,
     "metadata": {},
     "output_type": "execute_result"
    }
   ],
   "source": [
    "data2 = [[1, 2, 3, 4], [5, 6, 7, 8]]\n",
    "\n",
    "arr_2 = np.array(data2)\n",
    "arr_2"
   ]
  },
  {
   "cell_type": "code",
   "execution_count": 6,
   "metadata": {},
   "outputs": [
    {
     "data": {
      "text/plain": [
       "array([0, 1, 2, 3, 4, 5, 6, 7, 8, 9])"
      ]
     },
     "execution_count": 6,
     "metadata": {},
     "output_type": "execute_result"
    }
   ],
   "source": [
    "arr_3 = np.arange(10)\n",
    "arr_3"
   ]
  },
  {
   "cell_type": "code",
   "execution_count": 7,
   "metadata": {},
   "outputs": [
    {
     "data": {
      "text/plain": [
       "array([[1., 0., 0.],\n",
       "       [0., 1., 0.],\n",
       "       [0., 0., 1.]])"
      ]
     },
     "execution_count": 7,
     "metadata": {},
     "output_type": "execute_result"
    }
   ],
   "source": [
    "arr_4 = np.identity(3)\n",
    "arr_4"
   ]
  },
  {
   "attachments": {},
   "cell_type": "markdown",
   "metadata": {},
   "source": [
    "una vez tienes creado el objeto de ndArray puedes ver información relevante del objeto como por ejemplo el tipo de dato almacenado, la dimension, etc."
   ]
  },
  {
   "cell_type": "code",
   "execution_count": 8,
   "metadata": {},
   "outputs": [
    {
     "name": "stdout",
     "output_type": "stream",
     "text": [
      "arr_2 shape: (2, 4)\n",
      "arr_2 size: 8\n",
      "arr_2 ndim: 2\n",
      "arr_2 dtype: int64\n"
     ]
    }
   ],
   "source": [
    "print(\"arr_2 shape:\",arr_2.shape)\n",
    "print(\"arr_2 size:\",arr_2.size)\n",
    "print(\"arr_2 ndim:\",arr_2.ndim)\n",
    "print(\"arr_2 dtype:\",arr_2.dtype)"
   ]
  },
  {
   "attachments": {},
   "cell_type": "markdown",
   "metadata": {},
   "source": [
    "### Tipos de datos de un ndArray\n",
    "\n",
    "Dentro de los tipos de datos que podemos asignarle a un ndArray encontramos\n",
    "\n",
    "|Type|Type code|Description|\n",
    "|----|---------|-----------|\n",
    "|int8, uint8|i1, u1|Signed and unsigned 8-bit (1 byte) integer types|\n",
    "|int16, uint16|i2, u2|Signed and unsigned 16-bit integer types|\n",
    "|int32, uint32|i4, u4|Signed and unsigned 32-bit integer types|\n",
    "|int64, uint64|i8, u8|Signed and unsigned 64-bit integer types|\n",
    "|float16|f2|Half-precision floating point|\n",
    "|float32|f4 or f|Standard single-precision floating point; compatible with C float|\n",
    "|float64|f8 or d|Standard double-precision floating point; compatible with C double and Python float object|\n",
    "|float128|f16 or g|Extended-precision floating point|\n",
    "|complex64, complex128, complex256|c8, c16, c32|Complex numbers represented by two 32, 64, or 128 floats, respectively|\n",
    "|bool|?|Boolean type storing True and False values|\n",
    "|object|O|Python object type; a value can be any Python object|\n",
    "|string_|S|Fixed-length ASCII string type (1 byte per character); for example, to create a string data type with length 10, use 'S10'|\n",
    "|unicode_|U|Fixed-length Unicode type (number of bytes platform specific); same specification semantics as string_ (e.g., 'U10')|\n",
    "\n",
    "Debemos de tener en cuenta que al momento de crear un arreglo este solo puede contener un tipo de dato, y nostros podemos definirlo al momento de crearlo, como en los siguientes ejemplos\n"
   ]
  },
  {
   "cell_type": "code",
   "execution_count": 9,
   "metadata": {},
   "outputs": [
    {
     "data": {
      "text/plain": [
       "dtype('int64')"
      ]
     },
     "execution_count": 9,
     "metadata": {},
     "output_type": "execute_result"
    }
   ],
   "source": [
    "arr = np.array([1, 2, 3, 4, 5])\n",
    "arr.dtype"
   ]
  },
  {
   "cell_type": "code",
   "execution_count": 11,
   "metadata": {},
   "outputs": [
    {
     "data": {
      "text/plain": [
       "array([1., 2., 3., 4., 5.])"
      ]
     },
     "execution_count": 11,
     "metadata": {},
     "output_type": "execute_result"
    }
   ],
   "source": [
    "float_arr = arr.astype(np.float64)\n",
    "float_arr"
   ]
  },
  {
   "cell_type": "code",
   "execution_count": 12,
   "metadata": {},
   "outputs": [
    {
     "data": {
      "text/plain": [
       "dtype('float64')"
      ]
     },
     "execution_count": 12,
     "metadata": {},
     "output_type": "execute_result"
    }
   ],
   "source": [
    "float_arr.dtype"
   ]
  }
 ],
 "metadata": {
  "kernelspec": {
   "display_name": "pydata-book",
   "language": "python",
   "name": "python3"
  },
  "language_info": {
   "codemirror_mode": {
    "name": "ipython",
    "version": 3
   },
   "file_extension": ".py",
   "mimetype": "text/x-python",
   "name": "python",
   "nbconvert_exporter": "python",
   "pygments_lexer": "ipython3",
   "version": "3.10.10"
  },
  "orig_nbformat": 4
 },
 "nbformat": 4,
 "nbformat_minor": 2
}
